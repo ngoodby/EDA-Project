{
 "cells": [
  {
   "cell_type": "markdown",
   "id": "0fd8d331",
   "metadata": {},
   "source": [
    "# Parentheses Exercise"
   ]
  },
  {
   "cell_type": "code",
   "execution_count": 33,
   "id": "c13685c5",
   "metadata": {},
   "outputs": [],
   "source": [
    "def check_parentheses(parentheses):\n",
    "    counter = 0\n",
    "    for p in parentheses:\n",
    "        if p == '(':\n",
    "            counter += 1\n",
    "        elif p == ')':\n",
    "            counter -= 1\n",
    "        if counter < 0:\n",
    "            return print(False)\n",
    "    if counter == 0:\n",
    "        return print(True)\n",
    "    return print(False)"
   ]
  },
  {
   "cell_type": "code",
   "execution_count": 38,
   "id": "4a142cac",
   "metadata": {},
   "outputs": [],
   "source": [
    "test1 = '(()()()())'\n",
    "test2 = '(((())))'\n",
    "test3 = '(()((())()))'\n",
    "test4 = '((((((())'\n",
    "test5 = '()))'\n",
    "test6 = '(()()))(()'\n",
    "tests = [test1, test2, test3, test4, test5, test6]"
   ]
  },
  {
   "cell_type": "code",
   "execution_count": 39,
   "id": "fe60102d",
   "metadata": {},
   "outputs": [
    {
     "name": "stdout",
     "output_type": "stream",
     "text": [
      "(()()()())\n",
      "True\n",
      "(((())))\n",
      "True\n",
      "(()((())()))\n",
      "True\n",
      "((((((())\n",
      "False\n",
      "()))\n",
      "False\n",
      "(()()))(()\n",
      "False\n"
     ]
    }
   ],
   "source": [
    "for i in tests:\n",
    "    print(i)\n",
    "    check_parentheses(i)"
   ]
  },
  {
   "cell_type": "code",
   "execution_count": null,
   "id": "8e2e548e",
   "metadata": {},
   "outputs": [],
   "source": []
  }
 ],
 "metadata": {
  "kernelspec": {
   "display_name": "Python [conda env:metis] *",
   "language": "python",
   "name": "conda-env-metis-py"
  },
  "language_info": {
   "codemirror_mode": {
    "name": "ipython",
    "version": 3
   },
   "file_extension": ".py",
   "mimetype": "text/x-python",
   "name": "python",
   "nbconvert_exporter": "python",
   "pygments_lexer": "ipython3",
   "version": "3.9.10"
  }
 },
 "nbformat": 4,
 "nbformat_minor": 5
}
